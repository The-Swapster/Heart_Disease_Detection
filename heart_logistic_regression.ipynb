{
 "cells": [
  {
   "cell_type": "code",
   "execution_count": 1,
   "metadata": {},
   "outputs": [],
   "source": [
    "import pandas as pd\n",
    "from sklearn.model_selection import train_test_split\n",
    "from sklearn.linear_model import LogisticRegression\n",
    "from sklearn import metrics"
   ]
  },
  {
   "cell_type": "code",
   "execution_count": 2,
   "metadata": {},
   "outputs": [],
   "source": [
    "df = pd.read_csv(r'C:\\Users\\HP\\Documents\\datasets\\heart-disease-uci\\heart.csv')\n",
    "columns = df.columns\n",
    "y = df['target']\n",
    "X = df[columns]\n",
    "X.drop('target', inplace = True, axis = 1)"
   ]
  },
  {
   "cell_type": "code",
   "execution_count": 10,
   "metadata": {},
   "outputs": [],
   "source": [
    "X_train, X_test, y_train, y_test = train_test_split(X, y, test_size=0.3)"
   ]
  },
  {
   "cell_type": "code",
   "execution_count": 11,
   "metadata": {},
   "outputs": [
    {
     "name": "stdout",
     "output_type": "stream",
     "text": [
      "Wall time: 5.95 ms\n"
     ]
    },
    {
     "name": "stderr",
     "output_type": "stream",
     "text": [
      "C:\\Users\\HP\\Anaconda3\\lib\\site-packages\\sklearn\\linear_model\\logistic.py:432: FutureWarning: Default solver will be changed to 'lbfgs' in 0.22. Specify a solver to silence this warning.\n",
      "  FutureWarning)\n"
     ]
    }
   ],
   "source": [
    "%%time\n",
    "model = LogisticRegression()\n",
    "model.fit(X_train, y_train)\n",
    "y_pred = model.predict(X_test)"
   ]
  },
  {
   "cell_type": "code",
   "execution_count": 12,
   "metadata": {},
   "outputs": [
    {
     "name": "stdout",
     "output_type": "stream",
     "text": [
      "Accuracy: 0.8681318681318682\n",
      "Precision: 0.8166666666666667\n",
      "Recall: 0.98\n",
      "sensitivity: 0.98\n",
      "specificity: 0.7317073170731707\n",
      "f1 score: 0.890909090909091\n"
     ]
    }
   ],
   "source": [
    "print(\"Accuracy:\",metrics.accuracy_score(y_test, y_pred))\n",
    "print(\"Precision:\", metrics.precision_score(y_test, y_pred))\n",
    "print(\"Recall:\", metrics.recall_score(y_test, y_pred))\n",
    "def specificity_score(y_true, y_pred):\n",
    "    p, r, f, s = metrics.precision_recall_fscore_support(y_true, y_pred)\n",
    "    return r[0]\n",
    "print(\"sensitivity:\", metrics.recall_score(y_test, y_pred))\n",
    "print(\"specificity:\", specificity_score(y_test, y_pred))\n",
    "print(\"f1 score:\", metrics.f1_score(y_test, y_pred))"
   ]
  },
  {
   "cell_type": "code",
   "execution_count": null,
   "metadata": {},
   "outputs": [],
   "source": [
    "df1 = pd.read_csv(r'C:\\Users\\HP\\Documents\\datasets\\cardio.csv')\n",
    "df1['age'] = df1['age']/365.25\n",
    "df1['age'] = df1['age'].round()\n",
    "columns1 = df1.columns\n",
    "y1 = df1['cardio']\n",
    "X1 = df1[columns1]\n",
    "X1.drop('cardio', inplace = True, axis = 1)"
   ]
  },
  {
   "cell_type": "code",
   "execution_count": 24,
   "metadata": {},
   "outputs": [],
   "source": [
    "X_train1, X_test1, y_train1, y_test1 = train_test_split(X1, y1, test_size=0.3)"
   ]
  },
  {
   "cell_type": "code",
   "execution_count": 25,
   "metadata": {},
   "outputs": [
    {
     "name": "stderr",
     "output_type": "stream",
     "text": [
      "C:\\Users\\HP\\Anaconda3\\lib\\site-packages\\sklearn\\linear_model\\logistic.py:432: FutureWarning: Default solver will be changed to 'lbfgs' in 0.22. Specify a solver to silence this warning.\n",
      "  FutureWarning)\n"
     ]
    },
    {
     "name": "stdout",
     "output_type": "stream",
     "text": [
      "Wall time: 2.39 s\n"
     ]
    }
   ],
   "source": [
    "%%time\n",
    "model = LogisticRegression()\n",
    "model.fit(X_train1, y_train1)\n",
    "predict1 = model.predict(X_test1)"
   ]
  },
  {
   "cell_type": "code",
   "execution_count": 26,
   "metadata": {},
   "outputs": [
    {
     "name": "stdout",
     "output_type": "stream",
     "text": [
      "Accuracy: 0.7118095238095238\n",
      "Precision: 0.732275350370981\n",
      "Recall: 0.6729166666666667\n",
      "sensitivity: 0.6729166666666667\n",
      "specificity: 0.7511494252873563\n",
      "f1 score: 0.7013422818791946\n"
     ]
    }
   ],
   "source": [
    "print(\"Accuracy:\",metrics.accuracy_score(y_test1, predict1))\n",
    "print(\"Precision:\", metrics.precision_score(y_test1, predict1))\n",
    "print(\"Recall:\", metrics.recall_score(y_test1, predict1))\n",
    "def specificity_score(y_true, y_pred):\n",
    "    p, r, f, s = metrics.precision_recall_fscore_support(y_true, y_pred)\n",
    "    return r[0]\n",
    "print(\"sensitivity:\", metrics.recall_score(y_test1, predict1))\n",
    "print(\"specificity:\", specificity_score(y_test1, predict1))\n",
    "print(\"f1 score:\", metrics.f1_score(y_test1, predict1))"
   ]
  },
  {
   "cell_type": "code",
   "execution_count": 30,
   "metadata": {},
   "outputs": [
    {
     "name": "stderr",
     "output_type": "stream",
     "text": [
      "C:\\Users\\HP\\Anaconda3\\lib\\site-packages\\sklearn\\linear_model\\logistic.py:432: FutureWarning: Default solver will be changed to 'lbfgs' in 0.22. Specify a solver to silence this warning.\n",
      "  FutureWarning)\n"
     ]
    },
    {
     "name": "stdout",
     "output_type": "stream",
     "text": [
      "Wall time: 2.86 s\n"
     ]
    }
   ],
   "source": [
    "%%time\n",
    "model = LogisticRegression()\n",
    "model.fit(X_train1, y_train1)\n",
    "predict2 = model.predict(X_train1)"
   ]
  },
  {
   "cell_type": "code",
   "execution_count": 31,
   "metadata": {},
   "outputs": [
    {
     "name": "stdout",
     "output_type": "stream",
     "text": [
      "Accuracy: 0.711204081632653\n",
      "Precision: 0.7283604661506984\n",
      "Recall: 0.6705843810147836\n",
      "sensitivity: 0.6705843810147836\n",
      "specificity: 0.7515560798991091\n",
      "f1 score: 0.698279354384768\n"
     ]
    }
   ],
   "source": [
    "print(\"Accuracy:\",metrics.accuracy_score(y_train1, predict2))\n",
    "print(\"Precision:\", metrics.precision_score(y_train1, predict2))\n",
    "print(\"Recall:\", metrics.recall_score(y_train1, predict2))\n",
    "def specificity_score(y_true, y_pred):\n",
    "    p, r, f, s = metrics.precision_recall_fscore_support(y_true, y_pred)\n",
    "    return r[0]\n",
    "print(\"sensitivity:\", metrics.recall_score(y_train1, predict2))\n",
    "print(\"specificity:\", specificity_score(y_train1, predict2))\n",
    "print(\"f1 score:\", metrics.f1_score(y_train1, predict2))"
   ]
  },
  {
   "cell_type": "code",
   "execution_count": null,
   "metadata": {},
   "outputs": [],
   "source": []
  }
 ],
 "metadata": {
  "kernelspec": {
   "display_name": "Python 3",
   "language": "python",
   "name": "python3"
  },
  "language_info": {
   "codemirror_mode": {
    "name": "ipython",
    "version": 3
   },
   "file_extension": ".py",
   "mimetype": "text/x-python",
   "name": "python",
   "nbconvert_exporter": "python",
   "pygments_lexer": "ipython3",
   "version": "3.7.4"
  }
 },
 "nbformat": 4,
 "nbformat_minor": 2
}
